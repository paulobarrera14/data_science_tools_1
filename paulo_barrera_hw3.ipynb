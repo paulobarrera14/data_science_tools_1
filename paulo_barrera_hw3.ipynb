{
 "cells": [
  {
   "cell_type": "code",
   "execution_count": 1,
   "outputs": [],
   "source": [
    "!chmod +x calculate_basic_stats.sh"
   ],
   "metadata": {
    "collapsed": false,
    "ExecuteTime": {
     "end_time": "2023-09-29T21:25:04.247689900Z",
     "start_time": "2023-09-29T21:25:04.174697700Z"
    }
   }
  },
  {
   "cell_type": "code",
   "execution_count": 4,
   "outputs": [
    {
     "name": "stdout",
     "output_type": "stream",
     "text": [
      "/bin/bash: warning: setlocale: LC_ALL: cannot change locale (en_US.UTF-8)\r\n",
      "  % Total    % Received % Xferd  Average Speed   Time    Time     Time  Current\r\n",
      "                                 Dload  Upload   Total   Spent    Left  Speed\r\n",
      "100  706k  100  706k    0     0   938k      0 --:--:-- --:--:-- --:--:--  938k\r\n",
      "############### Statistics for file  ############### \r\n",
      "URL used by curl command: https://www.gutenberg.org/files/58785/58785-0.txt\r\n",
      "Total number of words = 10976\r\n",
      "Min frequency and word:       1 zoo\r\n",
      "Max frequency and word:    5357 the\r\n",
      "There is an even number of unique words, the median is 5488 and median value is       2 restrain\r\n",
      "Total unique words = 10976\r\n",
      "Sum of frequencies = 126900\r\n",
      "Mean frequency using integer arithmetics = 11\r\n",
      "Mean frequency using floating point arithemetics =  11.56\r\n"
     ]
    }
   ],
   "source": [
    "!./calculate_basic_stats.sh https://www.gutenberg.org/files/58785/58785-0.txt"
   ],
   "metadata": {
    "collapsed": false,
    "ExecuteTime": {
     "end_time": "2023-09-29T21:48:29.105762600Z",
     "start_time": "2023-09-29T21:48:27.366872500Z"
    }
   }
  },
  {
   "cell_type": "code",
   "execution_count": 6,
   "outputs": [
    {
     "name": "stdout",
     "output_type": "stream",
     "text": [
      "mkdir: cannot create directory 'data_science_tools_1': File exists\r\n",
      "Reinitialized existing Git repository in /mnt/c/Users/paulo/Desktop/COMP/4447/HW/.git/\r\n"
     ]
    }
   ],
   "source": [
    "!mkdir data_science_tools_1\n",
    "!cd data_science_tools_1\n",
    "!git init"
   ],
   "metadata": {
    "collapsed": false,
    "ExecuteTime": {
     "end_time": "2023-09-29T21:59:04.212830100Z",
     "start_time": "2023-09-29T21:59:03.845743400Z"
    }
   }
  },
  {
   "cell_type": "code",
   "execution_count": 8,
   "outputs": [
    {
     "name": "stdout",
     "output_type": "stream",
     "text": [
      "error: remote origin already exists.\r\n"
     ]
    }
   ],
   "source": [
    "!cd /mnt/c/Users/paulo/Desktop/COMP/4447/HW/.git/\n",
    "!git remote add origin git@github.com:paulobarrera14/data_science_tools_1.git"
   ],
   "metadata": {
    "collapsed": false,
    "ExecuteTime": {
     "end_time": "2023-09-29T21:59:51.473232300Z",
     "start_time": "2023-09-29T21:59:51.202821700Z"
    }
   }
  },
  {
   "cell_type": "code",
   "execution_count": 10,
   "outputs": [
    {
     "name": "stdout",
     "output_type": "stream",
     "text": [
      "origin\tgit@github.com:paulobarrera14/data_science_tools_1.git (fetch)\r\n",
      "origin\tgit@github.com:paulobarrera14/data_science_tools_1.git (push)\r\n"
     ]
    }
   ],
   "source": [
    "!git remote -v"
   ],
   "metadata": {
    "collapsed": false,
    "ExecuteTime": {
     "end_time": "2023-09-29T22:00:11.104330500Z",
     "start_time": "2023-09-29T22:00:10.927779Z"
    }
   }
  },
  {
   "cell_type": "code",
   "execution_count": 11,
   "outputs": [
    {
     "name": "stdout",
     "output_type": "stream",
     "text": [
      "error: src refspec master does not match any\r\n",
      "\u001B[31merror: failed to push some refs to 'github.com:paulobarrera14/data_science_tools_1.git'\r\n",
      "\u001B[m"
     ]
    }
   ],
   "source": [
    "!git add .\n",
    "!git commit -m \"Initial commit\"\n",
    "!git push -u origin master"
   ],
   "metadata": {
    "collapsed": false,
    "ExecuteTime": {
     "end_time": "2023-09-29T22:00:24.513607300Z",
     "start_time": "2023-09-29T22:00:24.368832600Z"
    }
   }
  },
  {
   "cell_type": "code",
   "execution_count": null,
   "outputs": [],
   "source": [],
   "metadata": {
    "collapsed": false
   }
  }
 ],
 "metadata": {
  "kernelspec": {
   "display_name": "Python 3",
   "language": "python",
   "name": "python3"
  },
  "language_info": {
   "codemirror_mode": {
    "name": "ipython",
    "version": 2
   },
   "file_extension": ".py",
   "mimetype": "text/x-python",
   "name": "python",
   "nbconvert_exporter": "python",
   "pygments_lexer": "ipython2",
   "version": "2.7.6"
  }
 },
 "nbformat": 4,
 "nbformat_minor": 0
}
